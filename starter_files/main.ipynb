{
 "cells": [
  {
   "cell_type": "markdown",
   "metadata": {},
   "source": [
    "# libraries "
   ]
  },
  {
   "cell_type": "code",
   "execution_count": null,
   "metadata": {},
   "outputs": [],
   "source": [
    "import requests #The requests library for HTTP requests in Python\n",
    "import csv\n",
    "from secrets import IEX_CLOUD_API_TOKEN_TEST\n",
    "from secrets import IEX_CLOUD_API_TOKEN_LIVE\n"
   ]
  },
  {
   "cell_type": "markdown",
   "metadata": {},
   "source": [
    "# Get a url of a stock with extended hours data (MINE)"
   ]
  },
  {
   "cell_type": "code",
   "execution_count": null,
   "metadata": {},
   "outputs": [],
   "source": [
    "symbol = 'AAPL'\n",
    "# api_url = f'https://sandbox.iexapis.com/stable/stock/goog/chart/date/20201208?chartByDay=true&token={IEX_CLOUD_API_TOKEN}'\n",
    "api_url = f'https://sandbox.iexapis.com/stable/stock/TWTR/quote?token={IEX_CLOUD_API_TOKEN_TEST}'\n",
    "data = requests.get(api_url).json()\n",
    "data"
   ]
  },
  {
   "cell_type": "markdown",
   "metadata": {},
   "source": [
    "# From their website\n",
    "\n",
    "https://iexcloud.zendesk.com/hc/en-us/articles/1500011249702-Historical-Stock-Prices-on-IEX-Cloud"
   ]
  },
  {
   "cell_type": "code",
   "execution_count": null,
   "metadata": {},
   "outputs": [],
   "source": [
    "api_url = 'https://cloud.iexapis.com/stable/stock/xom/chart/date/20200415?token=sk_733fc5bb33d8422da50a3018daa5db74'\n",
    "data = requests.get(api_url).json()\n",
    "print(data)\n",
    "\n"
   ]
  },
  {
   "cell_type": "markdown",
   "metadata": {},
   "source": [
    "# The download_IEX.py API end point"
   ]
  },
  {
   "cell_type": "code",
   "execution_count": null,
   "metadata": {},
   "outputs": [],
   "source": [
    "api_url = 'https://cloud.iexapis.com/stable/stock/twtr/chart/date/20200415/?&token=sk_733fc5bb33d8422da50a3018daa5db74'\n",
    "data = requests.get(api_url).json()\n",
    "print(data)\n",
    "\n"
   ]
  },
  {
   "cell_type": "markdown",
   "metadata": {},
   "source": [
    "# Alpha API"
   ]
  },
  {
   "cell_type": "code",
   "execution_count": null,
   "metadata": {},
   "outputs": [],
   "source": [
    "ticker = 'BBIG'\n",
    "date= 'year1month1'\n",
    "apiKey = '5MACTR59FOK093UR'\n",
    "\n",
    "# replace the \"demo\" apikey below with your own key from https://www.alphavantage.co/support/#api-key\n",
    "CSV_URL = f'https://www.alphavantage.co/query?function=TIME_SERIES_INTRADAY_EXTENDED&symbol={ticker}&outputsize=full&interval=1min&slice=year1month1&apikey={apiKey}'\n",
    "\n",
    "with requests.Session() as s:\n",
    "    download = s.get(CSV_URL)\n",
    "    decoded_content = download.content.decode('utf-8')\n",
    "    cr = csv.reader(decoded_content.splitlines(), delimiter=',')\n",
    "    my_list = list(cr)\n",
    "    for row in my_list:\n",
    "        print(row)\n",
    "\n"
   ]
  }
 ],
 "metadata": {
  "interpreter": {
   "hash": "caf44e8cdd2773ebb1b0856937f9a33c3c373527cf6741482aebaa2ac56c6731"
  },
  "kernelspec": {
   "display_name": "Python 3.9.7 64-bit ('base': conda)",
   "language": "python",
   "name": "python3"
  },
  "language_info": {
   "codemirror_mode": {
    "name": "ipython",
    "version": 3
   },
   "file_extension": ".py",
   "mimetype": "text/x-python",
   "name": "python",
   "nbconvert_exporter": "python",
   "pygments_lexer": "ipython3",
   "version": "3.9.7"
  },
  "orig_nbformat": 4
 },
 "nbformat": 4,
 "nbformat_minor": 2
}
