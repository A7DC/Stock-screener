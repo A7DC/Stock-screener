{
 "cells": [
  {
   "cell_type": "markdown",
   "metadata": {},
   "source": [
    "# libraries "
   ]
  },
  {
   "cell_type": "code",
   "execution_count": null,
   "metadata": {},
   "outputs": [],
   "source": [
    "import requests #The requests library for HTTP requests in Python\n",
    "import csv\n",
    "import pandas as pd\n",
    "from secrets import IEX_CLOUD_API_TOKEN_LIVE\n"
   ]
  },
  {
   "cell_type": "markdown",
   "metadata": {},
   "source": [
    "# Get a list of tickers in the NASDAQ (IEX cloud)"
   ]
  },
  {
   "cell_type": "code",
   "execution_count": null,
   "metadata": {},
   "outputs": [],
   "source": [
    "api_url = f'https://cloud.iexapis.com/stable/ref-data/iex/symbols?format=csv&token={IEX_CLOUD_API_TOKEN_LIVE}'\n",
    "tickers = []\n",
    "with requests.Session() as s:\n",
    "    download = s.get(api_url)\n",
    "\n",
    "    decoded_content = download.content.decode('utf-8')\n",
    "\n",
    "    cr = csv.reader(decoded_content.splitlines(), delimiter=',')\n",
    "    my_list = list(cr)\n",
    "    for row in my_list[1:]:\n",
    "        tickers.append(row[0])\n"
   ]
  },
  {
   "cell_type": "markdown",
   "metadata": {},
   "source": [
    "# Loop through the tickers and bring up the daily OHLC"
   ]
  },
  {
   "cell_type": "code",
   "execution_count": null,
   "metadata": {},
   "outputs": [],
   "source": [
    "gappedStocks = []\n",
    "\n",
    "# difference between two numbers\n",
    "def changePercent(one, two):\n",
    "    return round(((one - two) / (one + two) / 2) * 100, 2)\n",
    "\n",
    "def getDailyOHLC():\n",
    "\n",
    "    api_url = f'https://www.alphavantage.co/query?function=TIME_SERIES_DAILY_ADJUSTED&symbol=TSCO.LON&outputsize=full&apikey={alpha_API_key}'\n",
    "\n",
    "    r = requests.get(api_url)\n",
    "    data = r.json()\n",
    "\n",
    "    for dt, values in data['Time Series (Daily)'].items(): \n",
    "\n",
    "        # get the values from the API dictionary\n",
    "        open = float(values['1. open'])\n",
    "        high = float(values['2. high'])\n",
    "        low = float(values['3. low'])\n",
    "        close = float(values['4. close'])\n",
    "        volume = float(values['6. volume'])\n",
    "        gap = changePercent(high, close)\n",
    "        \n",
    "        if gap > 0.1 and volume > 10000000:\n",
    "            gappedObj = {\n",
    "                'date': dt,\n",
    "                'gap (%)': gap,\n",
    "                'open': open,\n",
    "                'high': high,\n",
    "                'low': low,\n",
    "                'close': close,\n",
    "                'volume': volume\n",
    "            }\n",
    "            \n",
    "            gappedStocks.append(gappedObj)\n",
    "\n",
    "    print(gappedStocks)\n",
    "\n",
    "getDailyOHLC()\n"
   ]
  },
  {
   "cell_type": "code",
   "execution_count": null,
   "metadata": {},
   "outputs": [],
   "source": []
  },
  {
   "cell_type": "code",
   "execution_count": null,
   "metadata": {},
   "outputs": [],
   "source": [
    "for i in dates:\n",
    "    date = i[0]\n",
    "    open = date[0]\n",
    "    high = date[1]"
   ]
  },
  {
   "cell_type": "markdown",
   "metadata": {},
   "source": [
    "# Loop through the tickers and bring up the pre market history (multiple days)"
   ]
  },
  {
   "cell_type": "code",
   "execution_count": null,
   "metadata": {},
   "outputs": [],
   "source": [
    "stocksIntraDay = []\n",
    "\n",
    "def getIntraday():\n",
    "    for i in tickers[1]:\n",
    "        ticker = i\n",
    "        print(ticker, 'sdgfdfg')\n",
    "        date = 'year2month12'\n",
    "        apiKey = '5MACTR59FOK093UR'\n",
    "\n",
    "        api_url = f'https://www.alphavantage.co/query?function=TIME_SERIES_INTRADAY_EXTENDED&symbol={ticker}&outputsize=full&interval=1min&slice={date}&apikey={apiKey}'\n",
    "\n",
    "        with requests.Session() as s:\n",
    "            download = s.get(api_url)\n",
    "            decoded_content = download.content.decode('utf-8')\n",
    "            cr = csv.reader(decoded_content.splitlines(), delimiter=',')\n",
    "            my_list = list(cr)\n",
    "            for row in my_list[1:]:\n",
    "                row.append(ticker)\n",
    "                print(row)\n",
    "                \n",
    "        \n",
    "\n",
    "getIntraday()\n"
   ]
  }
 ],
 "metadata": {
  "interpreter": {
   "hash": "caf44e8cdd2773ebb1b0856937f9a33c3c373527cf6741482aebaa2ac56c6731"
  },
  "kernelspec": {
   "display_name": "Python 3.9.7 64-bit ('base': conda)",
   "language": "python",
   "name": "python3"
  },
  "language_info": {
   "codemirror_mode": {
    "name": "ipython",
    "version": 3
   },
   "file_extension": ".py",
   "mimetype": "text/x-python",
   "name": "python",
   "nbconvert_exporter": "python",
   "pygments_lexer": "ipython3",
   "version": "3.9.7"
  },
  "orig_nbformat": 4
 },
 "nbformat": 4,
 "nbformat_minor": 2
}
